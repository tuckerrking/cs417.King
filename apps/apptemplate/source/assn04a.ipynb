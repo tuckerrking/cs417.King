{
 "cells": [
  {
   "cell_type": "markdown",
   "id": "63cbc0ea-7cd4-4438-bb32-5b9426d83e09",
   "metadata": {},
   "source": [
    "CS417 Assignment 4: Getting your feet wet in Python\n",
    "---\n",
    "# Instructions\n",
    "Each of the following questions is followed by empty code cell. Add your code for the question to the cell and then execute that cell.  Submit the completed notebook by saving it in your GitHub repository and note in your submission on Blackboard where I can find the file.\n"
   ]
  },
  {
   "cell_type": "markdown",
   "id": "9465d6e4-f49c-438e-9a1d-ccf418e2fed9",
   "metadata": {},
   "source": [
    "## Problem 1 (Easy)\n",
    "Write a word frequency counter: How often does each word\n",
    "  show up in an array of words? Print out a report. (Hint: Use a dictionary to\n",
    "  count of the number of appearances of each word.)"
   ]
  },
  {
   "cell_type": "code",
   "execution_count": null,
   "id": "366de7f5-8efd-4964-afb2-12734c2142e2",
   "metadata": {},
   "outputs": [],
   "source": []
  },
  {
   "cell_type": "markdown",
   "id": "15b4b2ce-9118-4abb-9bbf-ed787721f87c",
   "metadata": {},
   "source": [
    "## Problem 2 (Easy)\n",
    "Given a month and the day of the week that’s the first of\n",
    "  that month entered as arugments on the command line, write a program\n",
    "  that prints a calendar for the month. (HINT: Remember one of the rules of being Pythonic: *Someone else has already done it*.  Do some research to see if you can find a Python library that will help you with this problem)."
   ]
  },
  {
   "cell_type": "code",
   "execution_count": null,
   "id": "2b365fa9-c81c-4149-9e8f-eda14255d50c",
   "metadata": {},
   "outputs": [],
   "source": []
  },
  {
   "cell_type": "markdown",
   "id": "a7e29bca-2e3e-4cb2-a768-47215582850e",
   "metadata": {},
   "source": [
    "## Problem 3 (Easy)\n",
    "Write a function that counts the the characters in a\n",
    "  string input by the user.  Write a main function that calls this\n",
    "  function and displays the string and number of characters."
   ]
  },
  {
   "cell_type": "code",
   "execution_count": null,
   "id": "f6189d14-e493-4473-a9cd-bffc9560160c",
   "metadata": {},
   "outputs": [],
   "source": []
  },
  {
   "cell_type": "markdown",
   "id": "d460ad3f",
   "metadata": {},
   "source": [
    "# Problem 4 (Moderate, but Painfully Simple)\n",
    "\n",
    "You are writing a test framework in Python and you need to determine what are the attributes and methods of an object.    Write a function (whose body, if you're careful about it, need only be a single statement) that returns a list of the attributes and methods of an object passed to it as an argument."
   ]
  },
  {
   "cell_type": "code",
   "execution_count": null,
   "id": "6dcfd557",
   "metadata": {},
   "outputs": [],
   "source": []
  },
  {
   "cell_type": "markdown",
   "id": "72dc799e",
   "metadata": {},
   "source": [
    "# Problem 5 (Moderate)\n",
    "\n",
    "One can parse a fully-parenthesized in-fix expression using two stacks: an operand stack and an operator stack.   You traverse your way through a string containing such an expression and push numbers onto the operand stack and operators onto the operator stack.   When you see a right parenthsis character,  pop two numbers off of the operand stack and pop an operator off of the operator stack, do the operation (add, subtract, multiply, or divide), and push the result back onto the operand stack.   When you reach the end of the expression string, the number on the top of the operand stack is the result (assuming a correctly formatted expression).\n",
    "\n",
    "Write a function in Python that, given a fully-parenthesized in-fix expression in a string, returns the result of evaluating that expression."
   ]
  },
  {
   "cell_type": "code",
   "execution_count": null,
   "id": "3a5e579f",
   "metadata": {},
   "outputs": [],
   "source": []
  }
 ],
 "metadata": {
  "kernelspec": {
   "display_name": "Python 3.10.6 64-bit",
   "language": "python",
   "name": "python3"
  },
  "language_info": {
   "codemirror_mode": {
    "name": "ipython",
    "version": 3
   },
   "file_extension": ".py",
   "mimetype": "text/x-python",
   "name": "python",
   "nbconvert_exporter": "python",
   "pygments_lexer": "ipython3",
   "version": "3.10.6"
  },
  "vscode": {
   "interpreter": {
    "hash": "b0fa6594d8f4cbf19f97940f81e996739fb7646882a419484c72d19e05852a7e"
   }
  }
 },
 "nbformat": 4,
 "nbformat_minor": 5
}
