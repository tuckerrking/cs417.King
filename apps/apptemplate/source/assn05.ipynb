{
 "cells": [
  {
   "cell_type": "markdown",
   "id": "b5214ed3-f3c4-4413-80c0-b9bd957f49de",
   "metadata": {},
   "source": [
    "CS417 Assignment 05\n",
    "---\n",
    "More Fun With Python\n",
    "---\n",
    "\n",
    "# Problem 1(Easy) \n",
    "Write a function named `occurrences` in Python  that takes a list and some object returns the a new list that\n",
    "    contains the elements in the first list equal to the key.\n",
    "    "
   ]
  },
  {
   "cell_type": "code",
   "execution_count": 1,
   "id": "19dd3781-6336-4ba4-af0a-ccce5efc85ee",
   "metadata": {
    "tags": []
   },
   "outputs": [
    {
     "name": "stdout",
     "output_type": "stream",
     "text": [
      "[1, 2, 3, 4, 5]\n"
     ]
    }
   ],
   "source": [
    "def occurrences(my_list):\n",
    "    x = []\n",
    "    for a in my_list:\n",
    "        if a not in x:\n",
    "            x.append(a)\n",
    "    return x\n",
    "\n",
    "print(occurrences([1,2,3,3,3,3,4,5]))"
   ]
  },
  {
   "cell_type": "markdown",
   "id": "217a51f9-8ce4-490b-9f50-830d9720e32c",
   "metadata": {},
   "source": [
    "# Problem 2 (Easy)\n",
    "Write a function in Python named `numSmaller` that\n",
    "    given a parameter containing a list of size 1 or greater and some\n",
    "    numeric parameter returns the number of elements that are strictly\n",
    "    **less** than that number."
   ]
  },
  {
   "cell_type": "code",
   "execution_count": 9,
   "id": "3717c6f8-4078-44e5-bb70-c62bb7dae0fe",
   "metadata": {
    "tags": []
   },
   "outputs": [
    {
     "name": "stdout",
     "output_type": "stream",
     "text": [
      "2\n"
     ]
    }
   ],
   "source": [
    "def countElements(num, li=[]):\n",
    "    count= 0\n",
    "    for val in li:\n",
    "        if val< num:\n",
    "            count+=1\n",
    "    return count\n",
    "\n",
    "\n",
    "num = 3\n",
    "li= [1, 2, 3, 3, 4, 4, 5]\n",
    "    \n",
    "print(countElements(num, li))"
   ]
  },
  {
   "cell_type": "markdown",
   "id": "ec4bda44-1b7b-4b4a-b08e-79b3b9bf6da5",
   "metadata": {},
   "source": [
    "# Problem 3 (Easy) \n",
    "Write a function in Python named `secondSmallest`\n",
    "    takes a list of size 1 or greater and returns the position of the\n",
    "    second smallest element of the list.   In the case, where the\n",
    "    smallest entry in the list occurs more than once, the second\n",
    "    occurrence of the item would be the second smallest entry.  For\n",
    "    example, in the list `[1,1,1,2,3]`, the position returned\n",
    "    would be 1.\n",
    "    \n",
    "    "
   ]
  },
  {
   "cell_type": "code",
   "execution_count": 10,
   "id": "9f374dee-e226-4b3f-bedc-7e3c6d0e07a9",
   "metadata": {},
   "outputs": [
    {
     "name": "stdout",
     "output_type": "stream",
     "text": [
      "2\n"
     ]
    }
   ],
   "source": [
    "def secondSmallest(numbers):\n",
    "    m1= m2= float('inf')\n",
    "    for x in numbers:\n",
    "        if x<= m1:\n",
    "            m1, m2= x, m1\n",
    "        \n",
    "        elif x< m2:\n",
    "            m2= x\n",
    "    return m2\n",
    "\n",
    "print(secondSmallest([1, 2, 2, 3, 4, 5, 7]))"
   ]
  },
  {
   "cell_type": "markdown",
   "id": "e7f19b38-0935-44cd-888a-59c74efa7822",
   "metadata": {},
   "source": [
    "# Problem 4 (Very Easy) \n",
    "You are given a text file that contains the timetable for buses\n",
    "that travel a college campus.  The first line of the file\n",
    "contains the name for each stop on the bus system separated by\n",
    "colons.  Each following line contains the times using a 24-hour\n",
    "clock at which each bus in the system will arrive at a bus stop,\n",
    "also separated by colons.\n",
    "\n",
    "The timetable will have the following format:\n",
    "\n",
    "| BUS | Athens | Ardmore | Harvest| Huntsville| Athens|\n",
    "|-----|--------|---------|--------|-----------|-------|\n",
    "|48  | 0800 | 0830| 0845 | 0915 | 1015|\n",
    "|49  | 0830 | 0900| 0915 | 0945 | 1045|\n",
    "|50  | 0900 | 0930| 0945 | 1015 | 1115|\n",
    "\n",
    "Write a program in Python that reads this file and outputs a row\n",
    "for each bus stop, showing the times when a bus arrives at that\n",
    "stop, formated in a table (remember... someone has already done it for you)."
   ]
  },
  {
   "cell_type": "code",
   "execution_count": 15,
   "id": "b68487ec-6192-471f-9d98-88b159e75067",
   "metadata": {},
   "outputs": [
    {
     "name": "stdout",
     "output_type": "stream",
     "text": [
      "Stop Name: Athens \n",
      "Timings for buses at this stop are (in 24 hrs format):\n",
      "0800 n\n",
      "Stop Name: Ardmore \n",
      "Timings for buses at this stop are (in 24 hrs format):\n",
      "0830 n\n",
      "Stop Name: Harvest \n",
      "Timings for buses at this stop are (in 24 hrs format):\n",
      "0900 n\n",
      "Stop Name: Huntsville \n",
      "Timings for buses at this stop are (in 24 hrs format):\n",
      "0830 n\n"
     ]
    }
   ],
   "source": [
    "file= open('data.txt', 'r')\n",
    "lines= [x.split('\\n')[0] for x in file.readlines()]\n",
    "busStops= {}\n",
    "\n",
    "for i in lines[0].split(':'):\n",
    "    busStops[i]= []\n",
    "\n",
    "for k, j in enumerate(busStops.keys()):\n",
    "    for i in range(1, len(lines)):\n",
    "        busStops[j].append(lines[i].split(':')[k])\n",
    "\n",
    "for i in busStops.keys():\n",
    "    print(\"Stop Name:\", i, '\\nTimings for buses at this stop are (in 24 hrs format):')\n",
    "    for j in busStops[i]:\n",
    "        print(j, end= ' ')\n",
    "    print('n')"
   ]
  },
  {
   "cell_type": "markdown",
   "id": "084de79a-313d-4a6d-abe3-ef6d1f7d2cdd",
   "metadata": {},
   "source": [
    "# Problem 5 (Medium) \n",
    "Continuing our theme of waiting on the bus, consider again the\n",
    "bus timetable from the previous question.  The first line of the\n",
    "file contains the name for each stop on the bus system separated\n",
    "by colons.  Each following line contains the times using a\n",
    "24-hour clock at which each bus in the system will arrive at a\n",
    "bus stop, also separated by colons.  A sample file is attached to\n",
    "this problem.\n",
    "\n",
    "Write a Python program that for enumerates each of the bus stops and\n",
    "departure times from that station with each value separated by a colon\n",
    "\n",
    "The output from your program should be in the following\n",
    "format:\n",
    "\n",
    "Athens: 0800:0830:0900\n",
    "\n",
    "Ardmore: 0830:0900:0930\n",
    "\n",
    "Harvest: 0845:0915:0945\n",
    "\n",
    "Huntsville: 0915:0945:1015\n",
    "\n",
    "Athens: 1015:1045:1115\n"
   ]
  },
  {
   "cell_type": "code",
   "execution_count": 20,
   "id": "216ccc98",
   "metadata": {},
   "outputs": [
    {
     "name": "stdout",
     "output_type": "stream",
     "text": [
      "Athens :\n",
      "0800 \n",
      "\n",
      "Ardmore :\n",
      "0830 \n",
      "\n",
      "Harvest :\n",
      "0900 \n",
      "\n",
      "Huntsville :\n",
      "0830 \n",
      "\n"
     ]
    }
   ],
   "source": [
    "file= open('data.txt', 'r')\n",
    "lines= [x.split('\\n')[0] for x in file.readlines()]\n",
    "busStops= {}\n",
    "\n",
    "for i in lines[0].split(':'):\n",
    "    busStops[i]= []\n",
    "\n",
    "for k, j in enumerate(busStops.keys()):\n",
    "    for i in range(1, len(lines)):\n",
    "        busStops[j].append(lines[i].split(':')[k])\n",
    "\n",
    "for i in busStops.keys():\n",
    "    print(i, \":\")\n",
    "    for j in busStops[i]:\n",
    "        print(j,end=' ')\n",
    "    print('\\n')"
   ]
  },
  {
   "cell_type": "markdown",
   "id": "1330b167-5468-403e-8f9c-62659c4e1227",
   "metadata": {},
   "source": [
    "# Problem 6 (Medium)\n",
    "\n",
    "Craps is a dice game played at many casinos.  A player rolls a pair of normal six-sided dice.   If the initial roll is a 2, 3, or 12, you lose.   If the roll is a 7 or 11, you win.   Any initial role causes the player to \"roll for point\".  That is the player keeps rolling the dice until they roll a 7 or the initial roll (the point).   If you roll a 7, you lose.  You roll the point, you win.\n",
    "\n",
    "Write a full Python program in the cell below that runs multiple games of craps and computes the probability of winning.   Compute that dividing the number of wins by the number of games played.\n",
    "\n",
    "I will give 30 points extra credit on this assignment to anyone who figures out how to graphically display each dice roll as the program runs."
   ]
  },
  {
   "cell_type": "code",
   "execution_count": null,
   "id": "edf37510",
   "metadata": {},
   "outputs": [],
   "source": []
  },
  {
   "cell_type": "markdown",
   "id": "fa42a5e9",
   "metadata": {},
   "source": []
  }
 ],
 "metadata": {
  "kernelspec": {
   "display_name": "Python 3 (ipykernel)",
   "language": "python",
   "name": "python3"
  },
  "language_info": {
   "codemirror_mode": {
    "name": "ipython",
    "version": 3
   },
   "file_extension": ".py",
   "mimetype": "text/x-python",
   "name": "python",
   "nbconvert_exporter": "python",
   "pygments_lexer": "ipython3",
   "version": "3.9.12"
  }
 },
 "nbformat": 4,
 "nbformat_minor": 5
}
