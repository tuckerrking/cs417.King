{
 "cells": [
  {
   "cell_type": "markdown",
   "id": "63cbc0ea-7cd4-4438-bb32-5b9426d83e09",
   "metadata": {},
   "source": [
    "CS417 Assignment 4: Getting your feet wet in Python\n",
    "---\n",
    "# Instructions\n",
    "Each of the following questions is followed by empty code cell. Add your code for the question to the cell and then execute that cell.  Submit the completed notebook by saving it in your GitHub repository and note in your submission on Blackboard where I can find the file.\n"
   ]
  },
  {
   "cell_type": "markdown",
   "id": "9465d6e4-f49c-438e-9a1d-ccf418e2fed9",
   "metadata": {},
   "source": [
    "## Problem 1 (Easy)\n",
    "Write a word frequency counter: How often does each word\n",
    "  show up in an array of words? Print out a report. (Hint: Use a dictionary to\n",
    "  count of the number of appearances of each word.)"
   ]
  },
  {
   "cell_type": "code",
   "execution_count": 10,
   "id": "366de7f5-8efd-4964-afb2-12734c2142e2",
   "metadata": {},
   "outputs": [
    {
     "name": "stdout",
     "output_type": "stream",
     "text": [
      "Frequency of Mango : 3 \n",
      "Frequency of Guava : 2 \n",
      "Frequency of Lemon : 2 \n",
      "Frequency of Lime : 1 \n"
     ]
    }
   ],
   "source": [
    "def count(elements):\n",
    "    if elements[-1] == '.':\n",
    "        elements = elements[0:len(elements) - 1]\n",
    "        \n",
    "    if elements in dictionary:\n",
    "        dictionary[elements]+= 1\n",
    "        \n",
    "    else:\n",
    "        dictionary.update({elements: 1})\n",
    "        \n",
    "Sentence= \"Mango Guava Mango Guava Lemon Mango Lemon Lime\"\n",
    "\n",
    "dictionary= {}\n",
    "\n",
    "lst= Sentence.split()\n",
    "\n",
    "for elements in lst:\n",
    "    count(elements)\n",
    "    \n",
    "for allKeys in dictionary:\n",
    "    print(\"Frequency of\", allKeys, end= \" \")\n",
    "    print(\":\", end= \" \")\n",
    "    print(dictionary[allKeys], end= \" \")\n",
    "    print()"
   ]
  },
  {
   "cell_type": "markdown",
   "id": "15b4b2ce-9118-4abb-9bbf-ed787721f87c",
   "metadata": {},
   "source": [
    "## Problem 2 (Easy)\n",
    "Given a month and the day of the week that’s the first of\n",
    "  that month entered as arugments on the command line, write a program\n",
    "  that prints a calendar for the month. (HINT: Remember one of the rules of being Pythonic: *Someone else has already done it*.  Do some research to see if you can find a Python library that will help you with this problem)."
   ]
  },
  {
   "cell_type": "code",
   "execution_count": 11,
   "id": "2b365fa9-c81c-4149-9e8f-eda14255d50c",
   "metadata": {},
   "outputs": [
    {
     "name": "stdout",
     "output_type": "stream",
     "text": [
      "Enter the month: 2\n",
      "Enter the year: 2024\n",
      "   February 2024\n",
      "Mo Tu We Th Fr Sa Su\n",
      "          1  2  3  4\n",
      " 5  6  7  8  9 10 11\n",
      "12 13 14 15 16 17 18\n",
      "19 20 21 22 23 24 25\n",
      "26 27 28 29\n",
      "\n"
     ]
    }
   ],
   "source": [
    "import calendar\n",
    "\n",
    "month= int(input(\"Enter the month: \"))\n",
    "year= int(input(\"Enter the year: \"))\n",
    "\n",
    "print(calendar.month(year,month))"
   ]
  },
  {
   "cell_type": "markdown",
   "id": "a7e29bca-2e3e-4cb2-a768-47215582850e",
   "metadata": {},
   "source": [
    "## Problem 3 (Easy)\n",
    "Write a function that counts the the characters in a\n",
    "  string input by the user.  Write a main function that calls this\n",
    "  function and displays the string and number of characters."
   ]
  },
  {
   "cell_type": "code",
   "execution_count": 7,
   "id": "f6189d14-e493-4473-a9cd-bffc9560160c",
   "metadata": {},
   "outputs": [
    {
     "name": "stdout",
     "output_type": "stream",
     "text": [
      "Enter some words: Hello\n",
      "The string \"Hello\" has 5 characters in it\n"
     ]
    }
   ],
   "source": [
    "def count(str):\n",
    "    return len(str)\n",
    "str=input('Enter some words: ')\n",
    "print(\"The string \",end='')\n",
    "print('\"{}\"'.format(str),end=' ')\n",
    "print(f\"has {count(str)} characters in it\")\n"
   ]
  },
  {
   "cell_type": "markdown",
   "id": "d460ad3f",
   "metadata": {},
   "source": [
    "# Problem 4 (Moderate, but Painfully Simple)\n",
    "\n",
    "You are writing a test framework in Python and you need to determine what are the attributes and methods of an object.    Write a function (whose body, if you're careful about it, need only be a single statement) that returns a list of the attributes and methods of an object passed to it as an argument."
   ]
  },
  {
   "cell_type": "code",
   "execution_count": 14,
   "id": "6dcfd557",
   "metadata": {},
   "outputs": [
    {
     "name": "stdout",
     "output_type": "stream",
     "text": [
      "['__add__', '__class__', '__class_getitem__', '__contains__', '__delattr__', '__delitem__', '__dir__', '__doc__', '__eq__', '__format__', '__ge__', '__getattribute__', '__getitem__', '__gt__', '__hash__', '__iadd__', '__imul__', '__init__', '__init_subclass__', '__iter__', '__le__', '__len__', '__lt__', '__mul__', '__ne__', '__new__', '__reduce__', '__reduce_ex__', '__repr__', '__reversed__', '__rmul__', '__setattr__', '__setitem__', '__sizeof__', '__str__', '__subclasshook__', 'append', 'clear', 'copy', 'count', 'extend', 'index', 'insert', 'pop', 'remove', 'reverse', 'sort']\n"
     ]
    }
   ],
   "source": [
    "def show_atts(my_list):\n",
    "    print(dir(my_list))\n",
    "    \n",
    "my_list= [\"this\", \"is\", \"my\",\"list\"]\n",
    "show_atts(my_list)\n",
    "    "
   ]
  },
  {
   "cell_type": "markdown",
   "id": "72dc799e",
   "metadata": {},
   "source": [
    "# Problem 5 (Moderate)\n",
    "\n",
    "One can parse a fully-parenthesized in-fix expression using two stacks: an operand stack and an operator stack.   You traverse your way through a string containing such an expression and push numbers onto the operand stack and operators onto the operator stack.   When you see a right parenthsis character,  pop two numbers off of the operand stack and pop an operator off of the operator stack, do the operation (add, subtract, multiply, or divide), and push the result back onto the operand stack.   When you reach the end of the expression string, the number on the top of the operand stack is the result (assuming a correctly formatted expression).\n",
    "\n",
    "Write a function in Python that, given a fully-parenthesized in-fix expression in a string, returns the result of evaluating that expression."
   ]
  },
  {
   "cell_type": "code",
   "execution_count": 18,
   "id": "3a5e579f",
   "metadata": {},
   "outputs": [
    {
     "name": "stdout",
     "output_type": "stream",
     "text": [
      "Infix expression evaluation:  6.0\n",
      "Postfix version of the infix expression:  345*6/+\n"
     ]
    }
   ],
   "source": [
    "OPERATORS = set(['+', '-', '*', '/', '(', ')', '^'])\n",
    "PRIORITY = {'+':1, '-':1, '*':2, '/':2, '^':3} \n",
    "\n",
    "def infixToPostfix(expression): #input expression\n",
    "    stack = [] \n",
    "    output = '' \n",
    "\n",
    "    for ch in expression:\n",
    "        if ch not in OPERATORS:  # if an operand then put it directly in postfix expression\n",
    "            output+= ch\n",
    "\n",
    "        elif ch=='(':  # else operators should be put in stack\n",
    "            stack.append('(')\n",
    "\n",
    "        elif ch==')':\n",
    "            while stack and stack[-1]!= '(':\n",
    "                output+=stack.pop()\n",
    "                \n",
    "            stack.pop()\n",
    "\n",
    "        else:\n",
    "            while stack and stack[-1]!='(' and PRIORITY[ch]<=PRIORITY[stack[-1]]:\n",
    "                output+=stack.pop()\n",
    "                \n",
    "            stack.append(ch)\n",
    "\n",
    "    while stack:\n",
    "        output+=stack.pop()\n",
    "        \n",
    "    return output\n",
    "\n",
    "    \n",
    "def precedence(op):\n",
    "    if op == '+' or op == '-':\n",
    "        return 1\n",
    "    if op == '*' or op == '/':\n",
    "        return 2\n",
    "    return 0\n",
    "\n",
    "\n",
    "def applyOp(a, b, op):\n",
    "    if op == '+': return a + b\n",
    "    if op == '-': return a - b\n",
    "    if op == '*': return a * b\n",
    "    if op == '/': return a // b\n",
    "\n",
    "\n",
    "def evaluate(tokens):\n",
    "    values = []\n",
    "    ops = []\n",
    "    i = 0\n",
    "    \n",
    "    while i < len(tokens):\n",
    "        if tokens[i] == ' ':\n",
    "            i += 1\n",
    "            continue\n",
    "        elif tokens[i] == '(':\n",
    "            ops.append(tokens[i])\n",
    "        elif tokens[i].isdigit():\n",
    "            val = 0\n",
    "            \n",
    "            while (i < len(tokens) and\n",
    "                tokens[i].isdigit()):\n",
    "                val = (val * 10) + int(tokens[i])\n",
    "                i += 1\n",
    "            values.append(val)\n",
    "            i-=1\n",
    "        elif tokens[i] == ')':\n",
    "            while len(ops) != 0 and ops[-1] != '(':\n",
    "                val2 = values.pop()\n",
    "                val1 = values.pop()\n",
    "                op = ops.pop()\n",
    "                values.append(applyOp(val1, val2, op))\n",
    "            ops.pop()\n",
    "        else:\n",
    "            while (len(ops) != 0 and\n",
    "                precedence(ops[-1]) >=\n",
    "                precedence(tokens[i])):\n",
    "                val2 = values.pop()\n",
    "                val1 = values.pop()\n",
    "                op = ops.pop()\n",
    "                values.append(applyOp(val1, val2, op))\n",
    "            ops.append(tokens[i])\n",
    "        i += 1\n",
    "\n",
    "    while len(ops) != 0:\n",
    "        val2 = values.pop()\n",
    "        val1 = values.pop()\n",
    "        op = ops.pop()\n",
    "        values.append(applyOp(val1, val2, op))\n",
    "    return float(values[-1])\n",
    "\n",
    "if __name__ == \"__main__\":\n",
    "   exp=\"3+4*5/6\"\n",
    "   print('Infix expression evaluation: ',evaluate(exp))\n",
    "   print('Postfix version of the infix expression: ',infixToPostfix(exp))"
   ]
  },
  {
   "cell_type": "code",
   "execution_count": null,
   "id": "5c66e6d5",
   "metadata": {},
   "outputs": [],
   "source": []
  },
  {
   "cell_type": "code",
   "execution_count": null,
   "id": "756f8148",
   "metadata": {},
   "outputs": [],
   "source": []
  },
  {
   "cell_type": "code",
   "execution_count": null,
   "id": "a0519a18",
   "metadata": {},
   "outputs": [],
   "source": []
  },
  {
   "cell_type": "code",
   "execution_count": null,
   "id": "5be5215a",
   "metadata": {},
   "outputs": [],
   "source": []
  },
  {
   "cell_type": "code",
   "execution_count": null,
   "id": "e9882647",
   "metadata": {},
   "outputs": [],
   "source": []
  },
  {
   "cell_type": "code",
   "execution_count": null,
   "id": "bff6a505",
   "metadata": {},
   "outputs": [],
   "source": []
  },
  {
   "cell_type": "code",
   "execution_count": null,
   "id": "b2d00542",
   "metadata": {},
   "outputs": [],
   "source": []
  },
  {
   "cell_type": "code",
   "execution_count": null,
   "id": "589f11aa",
   "metadata": {},
   "outputs": [],
   "source": []
  },
  {
   "cell_type": "code",
   "execution_count": null,
   "id": "dc8a5a95",
   "metadata": {},
   "outputs": [],
   "source": []
  },
  {
   "cell_type": "code",
   "execution_count": null,
   "id": "2c989e4c",
   "metadata": {},
   "outputs": [],
   "source": []
  }
 ],
 "metadata": {
  "kernelspec": {
   "display_name": "Python 3 (ipykernel)",
   "language": "python",
   "name": "python3"
  },
  "language_info": {
   "codemirror_mode": {
    "name": "ipython",
    "version": 3
   },
   "file_extension": ".py",
   "mimetype": "text/x-python",
   "name": "python",
   "nbconvert_exporter": "python",
   "pygments_lexer": "ipython3",
   "version": "3.9.12"
  },
  "vscode": {
   "interpreter": {
    "hash": "b0fa6594d8f4cbf19f97940f81e996739fb7646882a419484c72d19e05852a7e"
   }
  }
 },
 "nbformat": 4,
 "nbformat_minor": 5
}
